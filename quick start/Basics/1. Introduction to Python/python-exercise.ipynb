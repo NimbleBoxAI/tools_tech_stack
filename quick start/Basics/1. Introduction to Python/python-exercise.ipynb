{
 "cells": [
  {
   "cell_type": "markdown",
   "metadata": {},
   "source": [
    "# Python Practice Exercise"
   ]
  },
  {
   "cell_type": "markdown",
   "metadata": {},
   "source": [
    "In this notebook, you have to use the knowledge that you have gathered from the `intro-to-python` notebook and solve three Questions and one Project question to pass the first module."
   ]
  },
  {
   "cell_type": "code",
   "execution_count": null,
   "metadata": {},
   "outputs": [],
   "source": [
    "from grader import grader_1,grader_2,grader_3"
   ]
  },
  {
   "cell_type": "markdown",
   "metadata": {},
   "source": [
    "#### Question 1"
   ]
  },
  {
   "cell_type": "markdown",
   "metadata": {},
   "source": [
    "You are driving a little too fast, and a police officer stops you. Write a function to return one of 3 possible results: \"No ticket\", \"Small ticket\", or \"Big Ticket\". If your speed is 60 or less, the result is \"No Ticket\". If speed is between 61 and 80 inclusive, the result is \"Small Ticket\". If speed is 81 or more, the result is \"Big Ticket\". Unless it is your birthday (encoded as a boolean value in the parameters of the function) -- on your birthday, your speed can be 5 higher in all cases."
   ]
  },
  {
   "cell_type": "code",
   "execution_count": null,
   "metadata": {},
   "outputs": [],
   "source": [
    "import random\n",
    "\n",
    "# Don't delete this function\n",
    "# Helper function\n",
    "def test_case():\n",
    "    birthday = random.choice([True, False])\n",
    "    speed = random.uniform(0, 120)\n",
    "    return speed, birthday"
   ]
  },
  {
   "cell_type": "code",
   "execution_count": null,
   "metadata": {},
   "outputs": [],
   "source": [
    "# Create a function called 'speeding'\n",
    "def speeding(speed, birthday):\n",
    "    # Your code goes here\n",
    "    pass"
   ]
  },
  {
   "cell_type": "code",
   "execution_count": null,
   "metadata": {},
   "outputs": [],
   "source": [
    "# Don't delete this function\n",
    "# Driver code to test your 'speeding' function\n",
    "def check_test_case():\n",
    "    random.seed(9020)\n",
    "    ans=[]\n",
    "    for _ in range(0, 3):\n",
    "        speed, birthday = test_case()\n",
    "        print(speed, birthday)\n",
    "        ans.append(speeding(speed, birthday))\n",
    "    print(ans)\n",
    "    return ans"
   ]
  },
  {
   "cell_type": "code",
   "execution_count": null,
   "metadata": {},
   "outputs": [],
   "source": [
    "## Run this to grade your code\n",
    "## Do not edit\n",
    "grader_1(check_test_case())"
   ]
  },
  {
   "cell_type": "markdown",
   "metadata": {},
   "source": [
    "#### Questions 2"
   ]
  },
  {
   "cell_type": "markdown",
   "metadata": {},
   "source": [
    "Write a Python program to find a triplet such that sum of two equals to third element.\n",
    "\n",
    "Return type : tuple or string\n",
    "\n",
    "Example:\n",
    "    \n",
    "    Given : [22, 5, 32, 0, 10, 2, 23, 8, 19, 46]\n",
    "    Expected : (32, 10, 22)\n",
    "    \n",
    "    \n",
    "    Given : [22, 5, 32, 0, 12, 2, 23, 8, 19, 46]\n",
    "    Expected : \"No such triplet found\""
   ]
  },
  {
   "cell_type": "code",
   "execution_count": null,
   "metadata": {},
   "outputs": [],
   "source": [
    "def find_triplets(input_array, length):\n",
    "    \"\"\"\n",
    "    Reads and returns triplets.\n",
    "\n",
    "    :param input_array: given_array.\n",
    "           length: length of the given_array\n",
    "    :return: triplets or return \"No such triplet found\"\n",
    "    \"\"\"\n",
    "    # Your answer goes here\n",
    "    pass"
   ]
  },
  {
   "cell_type": "code",
   "execution_count": null,
   "metadata": {},
   "outputs": [],
   "source": [
    "# Don't delete this function\n",
    "# Driver code-block for your functions\n",
    "\n",
    "def check_test_case_2():\n",
    "    ans_2=[]\n",
    "    given_1 = [22, 5, 32, 0, 10, 2, 23, 8, 19, 46]\n",
    "    ans_2.append(str(find_triplets(given_1, len(given_1))))\n",
    "    given_2 = [22, 5, 32, 0, 12, 2, 23, 8, 19, 46]  \n",
    "    ans_2.append(find_triplets(given_2, len(given_2)))\n",
    "    return ans_2"
   ]
  },
  {
   "cell_type": "code",
   "execution_count": null,
   "metadata": {},
   "outputs": [],
   "source": [
    "## Run this to grade your code\n",
    "## Do not edit\n",
    "grader_2(check_test_case_2())"
   ]
  },
  {
   "cell_type": "markdown",
   "metadata": {},
   "source": [
    "#### Project 1"
   ]
  },
  {
   "cell_type": "markdown",
   "metadata": {},
   "source": [
    "You are given a file with different data points, you have to gather inference from those data points. For example,\n",
    "\n",
    "This file content:\n",
    "\n",
    "    something\n",
    "    1\n",
    "    7\n",
    "    somEThing\n",
    "    N/A\n",
    "    2\n",
    "    wassup\n",
    "    woop\n",
    "    \n",
    "    woop\n",
    "    something\n",
    "    WoOP\n",
    "\n",
    "Should yield this report:\n",
    "\n",
    "    missing values: 1\n",
    "    highest number: 7.0\n",
    "    most common words: something, woop\n",
    "    occurrences of most common: 3\n",
    "    numbers: [1.0, 7.0, 2.0]\n",
    "    words: ['something', 'something', 'n/a', 'wassup', 'woop', 'woop', 'something', 'woop']"
   ]
  },
  {
   "cell_type": "code",
   "execution_count": null,
   "metadata": {},
   "outputs": [],
   "source": [
    "def read_file(path):\n",
    "    \"\"\"\n",
    "    Reads and returns the data from the file specified as argument.\n",
    "\n",
    "    :param path: path to the file to be read.\n",
    "    :return: a tuple containing\n",
    "    1. the number of empty lines (int)\n",
    "    2. numeric values (list of floats)\n",
    "    3. non-numeric values (list of strings)\n",
    "    \"\"\"\n",
    "    # Your answer goes here\n",
    "    pass\n",
    "\n",
    "def make_report(missing_values, numbers, words):\n",
    "    \"\"\"\n",
    "    Creates and a report based on data given as arguments.\n",
    "\n",
    "    :param missing_values: number of empty lines (int)\n",
    "    :param numbers: numeric values (list of floats)\n",
    "    :param words: non numeric values (list of strings)\n",
    "    :return: the generated report (string)\n",
    "    \"\"\"\n",
    "    max_value = get_max_value(numbers)\n",
    "    lower_case_words = words_to_lowercase(words)\n",
    "    most_common_info = get_most_common_words(lower_case_words)\n",
    "    most_common_words = most_common_info[0]\n",
    "    most_common_count = most_common_info[1]\n",
    "\n",
    "    most_common_str = ''\n",
    "    for idx in range(len(most_common_words)):\n",
    "        most_common_str += most_common_words[idx] + ', '\n",
    "    # remove the last comma and space\n",
    "    most_common_str = most_common_str[0:len(most_common_str) - 2]\n",
    "\n",
    "    report = ('missing values: {}\\n'\n",
    "              'highest number: {}\\n'\n",
    "              'most common words: {}\\n'\n",
    "              'occurrences of most common: {}\\n'\n",
    "              'numbers: {}\\n'\n",
    "              'words: {}').format(missing_values, max_value, most_common_str,\n",
    "                                  most_common_count, numbers, lower_case_words)\n",
    "\n",
    "    return report\n",
    "\n",
    "\n",
    "def get_max_value(numbers):\n",
    "    \"\"\"\n",
    "    Returns the greatest value of the list given as argument.\n",
    "\n",
    "    :param numbers: numbers (list of numeric values)\n",
    "    :return: greatest value of numbers, None if numbers is an empty list\n",
    "    \"\"\"\n",
    "    # Your answer goes here\n",
    "    return max_value\n",
    "\n",
    "\n",
    "def words_to_lowercase(words):\n",
    "    \"\"\"\n",
    "    :param words: words to be converted (list of strings)\n",
    "    :return: lowercased words (list of strings)\n",
    "    \"\"\"\n",
    "    # Your answer goes here\n",
    "    return lowercased\n",
    "\n",
    "\n",
    "def get_most_common_words(words):\n",
    "    \"\"\"\n",
    "    Finds the most common words in a list of words.\n",
    "    If there are multiple different words with the same amount of occurrences,\n",
    "    they are all included in the return value sorted alphabetically.\n",
    "    In addition to returning the most common words, the return value\n",
    "    includes also the count of occurrences of the most common words.\n",
    "\n",
    "    :param words: list of words (list of strings)\n",
    "    :return: a tuple containing:\n",
    "    1. most common words (list of strings)\n",
    "    2. the count of occurrences of the most common words (int)\n",
    "    \"\"\"\n",
    "    # Your answer goes here\n",
    "    return most_common_words, max_count"
   ]
  },
  {
   "cell_type": "code",
   "execution_count": null,
   "metadata": {},
   "outputs": [],
   "source": [
    "# Don't delete this function\n",
    "# Driver function for your functions\n",
    "\n",
    "def get_report(path):\n",
    "    \"\"\"\n",
    "    Creates a report of the file specified as argument.\n",
    "\n",
    "    :param path: path to file from which the report should be created (string)\n",
    "    :return: the report (string)\n",
    "    \"\"\"\n",
    "    data = read_file(path)\n",
    "    missing_count = data[0]\n",
    "    numbers = data[1]\n",
    "    words = data[2]\n",
    "    report = make_report(missing_count, numbers, words)\n",
    "    return report"
   ]
  },
  {
   "cell_type": "code",
   "execution_count": null,
   "metadata": {},
   "outputs": [],
   "source": [
    "def check_project():\n",
    "    path = 'project_1_input_file.txt'\n",
    "    out=get_report(path)\n",
    "    print(out)\n",
    "    return out"
   ]
  },
  {
   "cell_type": "code",
   "execution_count": null,
   "metadata": {},
   "outputs": [],
   "source": [
    "grader_3(check_project())"
   ]
  },
  {
   "cell_type": "code",
   "execution_count": null,
   "metadata": {},
   "outputs": [],
   "source": []
  }
 ],
 "metadata": {
  "kernelspec": {
   "display_name": "Python 3",
   "language": "python",
   "name": "python3"
  },
  "language_info": {
   "codemirror_mode": {
    "name": "ipython",
    "version": 3
   },
   "file_extension": ".py",
   "mimetype": "text/x-python",
   "name": "python",
   "nbconvert_exporter": "python",
   "pygments_lexer": "ipython3",
   "version": "3.8.5"
  }
 },
 "nbformat": 4,
 "nbformat_minor": 4
}
