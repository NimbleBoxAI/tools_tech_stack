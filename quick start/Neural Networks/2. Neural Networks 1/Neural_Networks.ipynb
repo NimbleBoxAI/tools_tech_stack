{
 "cells": [
  {
   "cell_type": "markdown",
   "metadata": {},
   "source": [
    "# Introduction to Neural Networks\n",
    "\n",
    "### By **[NimbleBox](https://www.nimblebox.ai/)**\n",
    "\n",
    "[<img src=\"./assets/nbx.jpeg\" alt=\"NimbleBox logo\" width=600/>](https://www.nimblebox.ai/)\n"
   ]
  },
  {
   "cell_type": "markdown",
   "metadata": {},
   "source": [
    "# What are Neural Networks\n",
    " \n",
    "Neural Networks can be thought of as multiple layers of algorithms that work together to recognize the deep lying structures or patterns in the data and then with the help of that understanding produce predictions, something like how the neurons in your brain work.\n",
    " \n",
    "Neural Networks can be used to solve both Regression and classification problems. \n",
    " \n",
    "<img src=\"./assets/nn_diag.png\" width=700/>\n",
    " \n",
    "This might look like a lot of arrows going here and there and a lot of layers and features just smothered all over the image. So let's start by breaking it down one by one and first see a simpler version to build up to this.\n",
    " \n",
    "<img src=\"./assets/nn_simple.png\" width=700/>\n",
    " \n",
    "Let's assume that for now we are trying to predict House prices given the area of a house. Take a look at the dummy data below.\n",
    " \n",
    "|Area of house $(m^2)$ |Price $ (\\$) $|\n",
    "|----------------------|--------------|\n",
    "|1284|3500|\n",
    "|905|2500|\n",
    "|658|1750| \n",
    "|452|1210|\n",
    "|985|3000|\n",
    "|142|500|\n",
    " \n",
    "So the Area of the house is your input or input feature that I will call $ X $ and you are trying to find a function that is formally called a hypothesis $ h(X) $ that can predict the house price when you input $ X $ in it, and just to clear out a bit of notation first.\n",
    " \n",
    "- Input features = $ X $\n",
    "- Target = $ Y $\n",
    "- Hypothesis = $ h(X) $\n",
    " \n",
    "Now let's walk through our simple neural network above which had single input, Hidden unit and output unit at the start, middle and at the end respectively. \n",
    " \n",
    "<img src=\"./assets/forward_prop.png\" width=700/>\n",
    "\n",
    "## Forward Propagation\n",
    "\n",
    "Now let's see the steps to reach to $ Y\\_hat $ which is called **Forward Propagation** because we are going going forward in a neural network while calculating $Y\\_hat$.\n",
    " \n",
    "1. $ Z = W_1 * X + b_1$\n",
    "2. $ A = g(Z) $\n",
    "3. $ Y\\_hat = W_2 * A + b_2 $\n",
    " \n",
    "The values of $ W $ and $ b $ are calculated through **Gradient Descent** in a step called **Backward Propagation**, don't worry we will know about these in the next Notebook. \n"
   ]
  },
  {
   "cell_type": "markdown",
   "metadata": {},
   "source": [
    "## Activation Function\n",
    " \n",
    "Where **$ g $** is a sigmoid function in our example and these type of functions are called **Activation functions** in a neural network, the purpose of a activation function in a neural network is to induce non- linearity, let's see what I mean by that when we calculate $ Z $ or $Y\\_hat $ we always calculate a linear function of the form $$ y = mx + b $$ which if you remember is an equation of a line and that doesn't seems much non-linear to me and to fit the data better we include such activation functions which help in fitting complex functions to our data so we have better prediction or better accuracy at the end. \n",
    " \n",
    "<img src=\"./assets/sigmoid.png\" width=300/>\n",
    " \n",
    "A sigmoid function in python can be implemented something like this."
   ]
  },
  {
   "cell_type": "code",
   "execution_count": 2,
   "metadata": {},
   "outputs": [
    {
     "name": "stdout",
     "output_type": "stream",
     "text": [
      "Sigmoid of -2 is 0.11920292202211755\n"
     ]
    },
    {
     "data": {
      "text/plain": [
       "Text(0, 0.5, 'Sigmoid')"
      ]
     },
     "execution_count": 2,
     "metadata": {},
     "output_type": "execute_result"
    },
    {
     "data": {
      "image/png": "[encoded data removed]",
      "text/plain": [
       "<Figure size 432x288 with 1 Axes>"
      ]
     },
     "metadata": {
      "needs_background": "light"
     },
     "output_type": "display_data"
    }
   ],
   "source": [
    "import numpy as np\n",
    "from matplotlib import pyplot as plt\n",
    "\n",
    "def Sigmoid(x):\n",
    "    return (1 / (1 + np.exp(-x)))\n",
    "            \n",
    "# change the value here to see different output.\n",
    "inp = -2\n",
    "print(\"Sigmoid of \" + str(inp) + \" is \" + str(Sigmoid(inp)))\n",
    "\n",
    "# Plot of Sigmoid function\n",
    "inp = np.linspace(-5, 5)\n",
    "plt.plot(inp, Sigmoid(inp))\n",
    "plt.xlabel(\"X\")\n",
    "plt.ylabel(\"Sigmoid\")"
   ]
  },
  {
   "cell_type": "markdown",
   "metadata": {},
   "source": [
    "## Loss function \n",
    " \n",
    "So now as we know how to go through a step of forward Propagation let's take an example from our dummy dataset and try to understand how to find the hypothesis function $ h(X) $.\n",
    " \n",
    "For this example we will assume that the values of $ W_1, b_1, W_2 $ and $ b_2 $ are $ 0.009, -0.0140, 2700 $ and $ 437 $ respectively, The values of of the parameters $ W $ and $ b $ in an actual neural network are not so extreme such as some in decimal and some in thousands. \n",
    " \n",
    "Substituting all the values in a single step of forward propagation we get.\n",
    " \n",
    "1. $ Z = 0.0009 * 905 + -0.0140 = 0.8005 $\n",
    "2. $ A = g(0.8005) = 0.6900 $\n",
    "3. $ Y\\_hat = 2700 * 0.6900 + 456 = 2319 $\n",
    " \n",
    "$ Y\\_hat $ which is equal to 2319 seems to be pretty close to the actual value of 2500 but how do we adjust the parameters to get more close to the actual value how should we measure the difference or the **loss**.\n",
    " \n",
    "So the way we calculate the loss through a loss function called **Mean Square Error** is like this.\n",
    " \n",
    "<img src=\"./assets/mse.png\" width=300/>\n",
    " \n",
    "> From [Wikipeadia](https://en.wikipedia.org/wiki/Mean_squared_error#:~:text=In%20statistics%2C%20the%20mean%20squared,values%20and%20the%20actual%20value.)\n",
    " \n",
    "The loss for our example will be:\n",
    " \n",
    "$$ 1/2 *  Σ ((2500 - 2319)^2 ) = 32761 $$\n",
    " \n",
    "As we just had a single example $ n $ is equal to $ 1 $ and in deep learning we generally divide MSE with $ 2 $. A simple Implementation of the Mean Squared Error can be done something like this. This $ Σ $ charater is called and is used to denote sum of an vector in our case.\n"
   ]
  },
  {
   "cell_type": "code",
   "execution_count": 5,
   "metadata": {},
   "outputs": [
    {
     "name": "stdout",
     "output_type": "stream",
     "text": [
      "1\n"
     ]
    },
    {
     "data": {
      "text/plain": [
       "16380.5"
      ]
     },
     "execution_count": 5,
     "metadata": {},
     "output_type": "execute_result"
    }
   ],
   "source": [
    "def MSE(Y, Y_hat):\n",
    "    n = len(Y)\n",
    "    return (np.sum((Y - Y_hat)**2)) / (2 * n)\n",
    "\n",
    "# Try an array of numbers or just change the inputs to MSE to see how the output changes.\n",
    "Y = np.array([2500])\n",
    "Y_hat = np.array([2319])\n",
    "\n",
    "MSE(Y, Y_hat)"
   ]
  },
  {
   "cell_type": "markdown",
   "metadata": {},
   "source": [
    "## What's Next\n",
    " \n",
    "In the next Notebook we are going to learn about Gradient descent and backward propagation and how to find the weight and bias parameters.\n",
    " "
   ]
  }
 ],
 "metadata": {
  "kernelspec": {
   "display_name": "Python 3",
   "language": "python",
   "name": "python3"
  },
  "language_info": {
   "codemirror_mode": {
    "name": "ipython",
    "version": 3
   },
   "file_extension": ".py",
   "mimetype": "text/x-python",
   "name": "python",
   "nbconvert_exporter": "python",
   "pygments_lexer": "ipython3",
   "version": "3.8.5"
  }
 },
 "nbformat": 4,
 "nbformat_minor": 4
}
