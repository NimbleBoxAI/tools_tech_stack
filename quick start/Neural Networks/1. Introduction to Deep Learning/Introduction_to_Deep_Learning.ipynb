{
 "cells": [
  {
   "cell_type": "markdown",
   "metadata": {},
   "source": [
    "# Introduction to Machine Learning\n",
    "### By **[NimbleBox](https://www.nimblebox.ai)**\n",
    "\n",
    "\n",
    "[<img src=\"./assets/nbx.jpeg\" alt=\"NimbleBox.ai logo\" width=\"600\"/>](https://www.nimblebox.ai)\n",
    "\n"
   ]
  },
  {
   "cell_type": "markdown",
   "metadata": {},
   "source": [
    "## What is Deep Learning\n",
    " \n",
    "As we know from the previous week that Machine learning is an application or a sub-field of Artificial Intelligence (AI), Deep Learning is a more specialized part of Machine Learning, which further extends and expands the concepts of machine learning.\n",
    " \n",
    "<img src=\"./assets/dl_circle.png\" width=350>\n",
    " \n",
    "Deep Learning is used a lot today. You might even be using something that has a Deep Learning component working at its heart to carry out all the decisions and is responsible for producing the results. \n",
    " \n",
    "You probably have used some sort of virtual assistant at this point, how do you think it recognizes your voice even when you are in a noisy environment and other people are talking around you? Those are some of the things that deep learning has enabled us with.\n",
    " \n",
    "You might ask why can't we perform all of this with just machine learning and why do we even need deep learning when I can do a lot of the stuff with just machine learning. and you might even be true but just a little. Yes you can carry out a lot of tasks with the help of machine learning but the answer to why deep learning is used so much and what drives the growth of it is not something that a one liner can explain. So let's try to see why this is the case.\n"
   ]
  },
  {
   "cell_type": "markdown",
   "metadata": {},
   "source": [
    "## Why Deep Learning\n",
    " \n",
    "First lets just simply compare the two terms \"Deep Learning\" and \"Machine Learning\" so for an example let's say I give you one hour to learn about what a car is, You might be able to grasp something and you would definitely have a upper understanding of what the thing is, So you may say that the car is a vehicle and is of some color, has so and so number of seats and has 4 tyres but if I ask you about how the car engine works you might not be able to tell that on the other hand say you had a whole day to just learn about a car then you can have a more sound knowledge of a car and might even be able to say that if this car works like this maybe other cars also work in a similar way because now you understand what a car is at a deeper level. \n",
    " \n",
    "Now for a minute let's just keep our example with us and talk about another thing which will be helpful to grasp the whole picture.\n",
    " \n",
    "These days we have really really huge amounts of data. I think you can get the scale when I use \"really\" two times, But to give you a fair idea let's think in numbers. Let's say you click 100 pictures in a month and there are almost 7.8 Billion people in the world at the time of writing this. so an approx of 7800 Billion images per month and we have been using cameras and smartphones for a long amount of time, But yes as we saw in the previous weeks to train a model you need labeled data for supervised learning problems, and I don't think you sit and label every photo you take. So we don't actually have all of the data as trainable data or the data which is labelled but we still have huge amounts of labelled data present.\n",
    " \n",
    "And as we talked about supervised learning, I will just add it here that Deep learning models can also solve every type of problem that machine learning models can, That includes supervised(Regression and Classification) and unsupervised learning both.\n",
    " \n",
    "Now let's get back to why I gave that car example, Generally any Deep learning model has multiple layers to process some information that helps that model to have deeper understanding and to better generalize the problem at hand. Don't worry we are going to understand what this means.\n",
    " \n",
    "Let's take an example to understand what I mean by deeper understanding and generalization from a Deep Learning model's perspective.\n",
    " \n",
    "<br>\n",
    "\n",
    "<img src=\"./assets/dog.jpg\" width=600/>\n",
    "\n",
    "> Photo by [Adam Kontor](https://www.pexels.com/@adamkontor?utm_content=attributionCopyText&utm_medium=referral&utm_source=pexels) from pexels.\n",
    "\n",
    " \n",
    "When you look at this picture or any other picture of a dog you can instantly say that it's a dog and don't even realise how you came to the conclusion. but how your brain process this information is with the help of so many neurons that are in your brain to look at the image and say that ok this thing has fur, has two ears, a tail, a black nose and looking at other small and deeper features that you may not realise it comes to a conclusion that the picture is of a dog but you can only do this with a high confidence because you have seen dogs or photos of dogs so many times that when shown a new dog or a new image of a dog you can say that it's a dog.\n",
    " \n",
    "In a similar manner a Deep Learning model has multiple layers think of them as multiple neurons which help it grasp the different features in the data or in our example an image and as it can detect those small and deep features from the images it can have a deeper understanding of the data and can generalize well when shown a new image which wasn't used to train your model and with high confidence say that it is a dog 🐶. \n",
    " \n",
    "And the other aspect of why deep models are better than machine learning models is the amount of data. The performance of deep models generally increases with the amount of data they can get. take a look at the below graph for an example. \n",
    " \n",
    "<br>\n",
    "<img src=\"./assets/ml_dl_graph.png\" width=600>\n",
    "\n",
    "So this is why Deep learning models are now being used more and more commonly because we have huge amounts of data and deep models can deliver better accuracy than traditional machine learning models with that data. \n"
   ]
  },
  {
   "cell_type": "markdown",
   "metadata": {},
   "source": [
    "## Neural Networks\n",
    " \n",
    "Neural Networks are a type of Deep Learning model that can be used in solving a wide variety of problems. We are going to learn in depth about what exactly neural networks are and how you can use them in the upcoming notebooks.\n"
   ]
  }
 ],
 "metadata": {
  "kernelspec": {
   "display_name": "Python 3",
   "language": "python",
   "name": "python3"
  },
  "language_info": {
   "codemirror_mode": {
    "name": "ipython",
    "version": 3
   },
   "file_extension": ".py",
   "mimetype": "text/x-python",
   "name": "python",
   "nbconvert_exporter": "python",
   "pygments_lexer": "ipython3",
   "version": "3.8.5"
  }
 },
 "nbformat": 4,
 "nbformat_minor": 4
}
