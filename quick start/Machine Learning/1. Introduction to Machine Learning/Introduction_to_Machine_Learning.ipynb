{
 "cells": [
  {
   "cell_type": "markdown",
   "metadata": {},
   "source": [
    "# Introduction to Machine Learning\n",
    "### By **[NimbleBox](https://www.nimblebox.ai)**\n",
    "\n",
    "[<img src=\"./assets/nbx.jpeg\" alt=\"NimbleBox.ai logo\" width=\"600\"/>](https://www.nimblebox.ai)\n"
   ]
  },
  {
   "cell_type": "markdown",
   "metadata": {},
   "source": [
    "## What is Machine Learning\n",
    "\n",
    "Machine Learning is an application of artificial intelligence (AI) which enables computers to take smart decisions without being explicitly programmed.\n",
    "\n",
    "How can this even be possible without someone hard-coding every use case or situation, how can a machine make right decisions. The answer to that is data. We train models with this data. We are going to learn more about what a model is for now just think about it as a learner  \n",
    "\n",
    "Some example usage of Machine Learning is how you are recommended a product on a shopping site or why you generally like the music recommended by your favourite music app."
   ]
  },
  {
   "cell_type": "markdown",
   "metadata": {},
   "source": [
    "## Parts of Machine Learning.\n",
    "\n",
    "You cannot apply a single solution to every problem in a similar way a single machine learning algorithm cannot be applied to solve every type of problem. \n",
    "\n",
    "\n",
    "<img src=\"assets/mltypes.jpg\" width=600/>\n",
    "\n",
    "We mainly have two divisions under machine learning which are supervised learning and unsupervised learning. "
   ]
  },
  {
   "cell_type": "markdown",
   "metadata": {},
   "source": [
    "## Supervised Learning\n",
    "Supervised Learning is the type of construct when you have the data and you know what each example in your data represents, Suppose you have a thousand images and you exactly know which ones are of dogs and which are of cats.\n",
    "\n",
    "<img src=\"assets/cats_and_dogs.png\" width=600/>\n"
   ]
  },
  {
   "cell_type": "markdown",
   "metadata": {},
   "source": [
    "## Parts of Supervised Learning \n",
    "\n",
    "### Classification\n",
    "\n",
    "Classification is a subtype of supervised learning where you have data that can be separated into categories or classes, take the above cat and dog problem as an example where you have two classes and all your thousand images can be separated into those two classes.\n",
    "\n",
    "For a moment think that you can plot the above images on a plot\n",
    "\n",
    "<img src=\"assets/classification.png\" width=600/>\n",
    "\n",
    "You can clearly see that any Image above the line will be of a cat and any images below that line will be of a dog, This is a classification problem. \n",
    "\n",
    "### Regression\n",
    "\n",
    "Regression is also a sub type of supervised learning where the things that you might want to predict are real values suppose you have a house price prediction problem where the data that you have contains area and price of house and you want to predict the house price given the area.\n",
    "\n",
    "<img src=\"assets/regression.png\" width=600/>\n",
    "\n",
    "Let's plot the values and see what can we do to predict the house price.\n",
    "\n",
    "<img src=\"assets/regression_plot.png\" width=800/>\n",
    "\n",
    "The line in the above plot seems like a good fit and think about the line in terms of a function which takes area of the house and gives out the price of the house, This is a type of regression problem where you have to predict real values instead of categories \n"
   ]
  },
  {
   "cell_type": "markdown",
   "metadata": {},
   "source": [
    "## Unsupervised Learning\n",
    "\n",
    "Unsupervised Learning is the type of construct when you have the data and you don't know what each example in your data represents, This is a type of problem where you try to learn the structure of your data without being explicitly provided with the data labels.\n",
    "\n",
    "The most common task within Unsupervised Learning is clustering it just means grouping your data into clusters, Let's take a example of a class of 60 students and you want to group them on the basis of how similar those students are to each other and you are provided with each student feature like height, weight, subjects they like, etc but you don't know the exact group to which the student belongs so this means that you don't have the labeled data. \n",
    "\n",
    "Let's try to plot the features that we have on a 2D plot and for now let's assume that there are only three types of students in the class. \n",
    "\n",
    "<img src=\"assets/cluster_plot.png\" width=800/>\n",
    "\n",
    "As we can see that we did not know the exact labels but we were still able to group similar students without knowing which group they belonged to.\n",
    "\n",
    "Now to you this and the classification problem may look similar but the biggest difference between these two are that in one problem you have the labeled data and you predict the labels from the data in another problem you only have the data without the labels and you try to group your data into similar small groups or clusters.\n"
   ]
  }
 ],
 "metadata": {
  "kernelspec": {
   "display_name": "Python 3",
   "language": "python",
   "name": "python3"
  },
  "language_info": {
   "codemirror_mode": {
    "name": "ipython",
    "version": 3
   },
   "file_extension": ".py",
   "mimetype": "text/x-python",
   "name": "python",
   "nbconvert_exporter": "python",
   "pygments_lexer": "ipython3",
   "version": "3.8.5"
  }
 },
 "nbformat": 4,
 "nbformat_minor": 4
}
