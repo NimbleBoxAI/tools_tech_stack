{
 "cells": [
  {
   "cell_type": "markdown",
   "metadata": {},
   "source": [
    "# Introduction to Scikit-learn\n",
    "\n",
    "### By **[NimbleBox](https://www.nimblebox.ai)**\n",
    "\n",
    "<a href=\"https://www.nimblebox.ai\"><img src=\"./assets/nbx.jpeg\" alt=\"NimbleBox.ai logo\" width=\"600\"/></a>\n",
    "\n",
    "This notebook contains parts from [Scikit-Learn](https://scikit-learn.org/stable)."
   ]
  },
  {
   "cell_type": "markdown",
   "metadata": {},
   "source": [
    "## Things we will learn\n",
    " \n",
    "We are going to see how to quickly and efficiently use the algorithms that we have studied till now. for that we are going to use [Scikit-learn](https://scikit-learn.org/stable/) which a python library in which we are going to see how to use:\n",
    " \n",
    "1. Linear Regression\n",
    "2. Logistic Regression\n",
    "3. Support Vector Machines (SVM)\n",
    "4. K-means Clustering\n",
    "5. Naive Bayes\n",
    " \n",
    "We are not going to show Decision trees as we already showed the scikit-learn implementation of that in the DecisionTrees and NaiveBayes Notebook.\n",
    " \n",
    "The library has a host of other algorithms implemented that we won't be covering to keep things inline but do checkout scikit learn's documentation for that.\n"
   ]
  },
  {
   "cell_type": "markdown",
   "metadata": {},
   "source": [
    "We import Scikit-learn by doing \n",
    "```python\n",
    "import sklearn\n",
    "```\n",
    "Yes we don't import scikit_learn but sklearn, A thing to keep in mind.\n"
   ]
  },
  {
   "cell_type": "markdown",
   "metadata": {},
   "source": [
    "Now let's start with our list of algorithms and we are going to demonstrate the basic usage of all of them that will mostly cover everything but if you encounter something that we didn't have mentioned, documentations are always great to refer to. \n",
    " \n",
    "To show these methods we are mostly going to use the data provided in in the scikit-learn library or fake data as the main purpose of this notebook is to introduce you to this library so you can quickly produce results without sitting to write models from scratch but then you ask then why were we writing algorithms from scratch, there are some of the things that i like to mention with that approach.\n",
    " \n",
    "- No matter how clear the text, steps and mathematics are, implementation is always clearer.\n",
    "- say if you want to use some other language and you don't have a machine learning library for that. Then you are not bound by it, you can still write the algorithm and use that. \n",
    " \n",
    "### Linear Regression\n"
   ]
  },
  {
   "cell_type": "code",
   "execution_count": 6,
   "metadata": {},
   "outputs": [
    {
     "data": {
      "image/png": "[encoded data removed]",
      "text/plain": [
       "<Figure size 432x288 with 1 Axes>"
      ]
     },
     "metadata": {},
     "output_type": "display_data"
    }
   ],
   "source": [
    "import numpy as np\n",
    "import matplotlib.pyplot as plt\n",
    "from sklearn import linear_model, datasets\n",
    "from sklearn.metrics import mean_squared_error, r2_score\n",
    "\n",
    "# Load the diabetes dataset\n",
    "diabetes_X, diabetes_y = datasets.load_diabetes(return_X_y=True)\n",
    "\n",
    "# Use only one feature\n",
    "diabetes_X = diabetes_X[:, np.newaxis, 2]\n",
    "\n",
    "# Split the data into training/testing sets\n",
    "diabetes_X_train = diabetes_X[:-20]\n",
    "diabetes_X_test = diabetes_X[-20:]\n",
    "\n",
    "# Split the targets into training/testing sets\n",
    "diabetes_y_train = diabetes_y[:-20]\n",
    "diabetes_y_test = diabetes_y[-20:]\n",
    "\n",
    "regression = linear_model.LinearRegression()\n",
    "\n",
    "# Train the regression model\n",
    "regression.fit(diabetes_X_train, diabetes_y_train)\n",
    "\n",
    "# Make predictions\n",
    "diabetes_y_pred = regression.predict(diabetes_X_test)\n",
    "\n",
    "# Plot the linear line fitted by the model\n",
    "plt.scatter(diabetes_X_test, diabetes_y_test,  color='orange')\n",
    "plt.plot(diabetes_X_test, diabetes_y_pred, color='green', linewidth=3)\n",
    "\n",
    "plt.xticks(())\n",
    "plt.yticks(())\n",
    "\n",
    "plt.show()"
   ]
  },
  {
   "cell_type": "markdown",
   "metadata": {},
   "source": [
    "### Logistic Regression"
   ]
  },
  {
   "cell_type": "code",
   "execution_count": 13,
   "metadata": {},
   "outputs": [
    {
     "name": "stdout",
     "output_type": "stream",
     "text": [
      "Accuracy: 0.9733333333333334\n"
     ]
    }
   ],
   "source": [
    "from sklearn.datasets import load_iris\n",
    "from sklearn.linear_model import LogisticRegression\n",
    "\n",
    "# Loading the iris dataset\n",
    "X, y = load_iris(return_X_y=True)\n",
    "\n",
    "log_reg = LogisticRegression(random_state=0, max_iter=130)\n",
    "\n",
    "# Training the model\n",
    "log_reg.fit(X, y)\n",
    "\n",
    "print(\"Accuracy: \"+ str(log_reg.score(X, y)))"
   ]
  },
  {
   "cell_type": "markdown",
   "metadata": {},
   "source": [
    "### Support Vector Machines(Classification)\n",
    " \n",
    "In this example we are going to use SVM from scikit-learn and also do some preprocessing which is just subtracting the data by the mean and dividing by standard deviation and create a pipeline so you don't need to pass the data to the the preprocessing step and then to SVM.\n"
   ]
  },
  {
   "cell_type": "code",
   "execution_count": 14,
   "metadata": {},
   "outputs": [
    {
     "name": "stdout",
     "output_type": "stream",
     "text": [
      "Accuracy: 0.9733333333333334\n"
     ]
    }
   ],
   "source": [
    "from sklearn.datasets import load_iris\n",
    "from sklearn.pipeline import make_pipeline\n",
    "from sklearn.preprocessing import StandardScaler\n",
    "from sklearn.svm import SVC\n",
    "\n",
    "# Loading the iris dataset\n",
    "X, y = load_iris(return_X_y=True)\n",
    "\n",
    "# Creating the pipeline with first the prepocessing\n",
    "# and then SVM\n",
    "svm_pipeline = make_pipeline(StandardScaler(),\n",
    "                    SVC(gamma='auto'))\n",
    "\n",
    "# Training the model\n",
    "svm_pipeline.fit(X, y)\n",
    "\n",
    "print(\"Accuracy: \"+ str(svm_pipeline.score(X, y)))"
   ]
  },
  {
   "cell_type": "markdown",
   "metadata": {},
   "source": [
    "As we see both Support Vector Machines and logistic regression were able to do good on a simple dataset. but SVMs generally outperform logistic regression in some conditions because the type of problem the SVM tries to solve is always convex and therefore always reaches a global minima and doesn't get stuck in local minima. \n"
   ]
  },
  {
   "cell_type": "markdown",
   "metadata": {},
   "source": [
    "### K-means Clustering"
   ]
  },
  {
   "cell_type": "code",
   "execution_count": 17,
   "metadata": {},
   "outputs": [
    {
     "data": {
      "text/plain": [
       "array([1, 1, 1, 0, 0, 0], dtype=int32)"
      ]
     },
     "execution_count": 17,
     "metadata": {},
     "output_type": "execute_result"
    }
   ],
   "source": [
    "from sklearn.cluster import KMeans\n",
    "import numpy as np\n",
    "\n",
    "# Initializing fake data\n",
    "X = np.array([[1, 2], [1, 4], [1, 0],\n",
    "              [10, 2], [10, 4], [10, 0]])\n",
    "\n",
    "# n_clusters is the number of clusters you want to \n",
    "# divide the data in\n",
    "kmeans = KMeans(n_clusters=2, random_state=0).fit(X)\n",
    "\n",
    "# Shows which data point was categorized into which cluster\n",
    "kmeans.labels_"
   ]
  },
  {
   "cell_type": "markdown",
   "metadata": {},
   "source": [
    "### Naive Bayes"
   ]
  },
  {
   "cell_type": "code",
   "execution_count": 18,
   "metadata": {},
   "outputs": [
    {
     "name": "stdout",
     "output_type": "stream",
     "text": [
      "Number of mislabeled points out of a total 75 points : 4\n"
     ]
    }
   ],
   "source": [
    "from sklearn.datasets import load_iris\n",
    "from sklearn.model_selection import train_test_split\n",
    "from sklearn.naive_bayes import GaussianNB\n",
    "\n",
    "X, y = load_iris(return_X_y=True)\n",
    "X_train, X_test, y_train, y_test = train_test_split(X, y, test_size=0.5, random_state=0)\n",
    "gnb = GaussianNB()\n",
    "y_pred = gnb.fit(X_train, y_train).predict(X_test)\n",
    "print(\"Number of mislabeled points out of a total %d points : %d\"\n",
    "      % (X_test.shape[0], (y_test != y_pred).sum()))"
   ]
  },
  {
   "cell_type": "markdown",
   "metadata": {},
   "source": [
    "You can find out more about the use of these algorithms and a host of other algorithms in the Scikit-learn documentation page.\n"
   ]
  }
 ],
 "metadata": {
  "kernelspec": {
   "display_name": "Python 3",
   "language": "python",
   "name": "python3"
  },
  "language_info": {
   "codemirror_mode": {
    "name": "ipython",
    "version": 3
   },
   "file_extension": ".py",
   "mimetype": "text/x-python",
   "name": "python",
   "nbconvert_exporter": "python",
   "pygments_lexer": "ipython3",
   "version": "3.8.5"
  }
 },
 "nbformat": 4,
 "nbformat_minor": 4
}
