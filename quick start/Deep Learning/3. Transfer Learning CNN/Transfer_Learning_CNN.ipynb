{
 "cells": [
  {
   "cell_type": "markdown",
   "metadata": {},
   "source": [
    "# Introduction to Machine Learning\n",
    "### By **[NimbleBox](https://www.nimblebox.ai)**\n",
    "\n",
    "\n",
    "[<img src=\"./assets/nbx.jpeg\" alt=\"NimbleBox.ai logo\" width=\"600\"/>](https://www.nimblebox.ai)\n",
    "\n"
   ]
  },
  {
   "cell_type": "markdown",
   "metadata": {},
   "source": [
    "## What will we learn \n",
    " \n",
    "Today we will learn about Transfer Learning in the field of image classification with the help of a convolutional neural network and what exactly it is, as the name defines that we transfer the learnings of one model to another. How is that possible? We will see in this notebook. Before we directly jump into implementing this we will need to understand some things. Let us see what they are. \n"
   ]
  },
  {
   "cell_type": "markdown",
   "metadata": {},
   "source": [
    "## Architecture\n",
    " \n",
    "So as the case was with neural networks that you could increase the hidden layers or the number of neurons in the hidden layers or change the activation function and you created a different architecture exactly like that Convolutional neural networks also had some major breakthrough one of them is **ResNet** On the basic level it is still a CNN but does some of the extra things, we are not exactly going to convert what ResNet is or what problems did it solve but if you are interested in it you can read the [ResNet paper](https://arxiv.org/abs/1512.03385) by Kaiming He, Xiangyu Zhang, Shaoqing Ren and Jian Sun. \n"
   ]
  },
  {
   "cell_type": "markdown",
   "metadata": {},
   "source": [
    "## Transfer Learning \n",
    " \n",
    "Transfer learning is used to solve problems where you have a small dataset to train your network and as you know to perform any good deep learning models need huge amounts of data so what transfer learning does is that when you have similar types of problem and you have huge amounts of data not specific to your problem but a similar one you can train your network on that problem and save the weights for all the layers except the last one as the last layer is the classification layer and reuse the same network for your own problem generally by only changing the last layer and freezing all the other parameters or adding some extra layers and training only those extra layers, by freezing parameters we mean that we will not update the weights of the layers before the classification layer and they will use the same parameters that were used to solve the previous problem. \n",
    " \n",
    "<img src=\"./assets/transfer.jpeg\" width=800 />\n",
    " \n",
    "> Image from [topbots](https://www.topbots.com/transfer-learning-in-nlp/)\n",
    " \n",
    "As we can see in the above image the model used in the previous task is transferred with and used by just changing the head which is just another name for the classification part of the neural network.\n"
   ]
  },
  {
   "cell_type": "markdown",
   "metadata": {},
   "source": [
    "## Implementation \n",
    " \n",
    "For this implementation we are going to use a pretrained ResNet model, by pretrained we mean that the network is already trained on some huge dataset and in the computer vision community it is easy to assume that when someone talks about a pre trained CNN they are saying that it was trained on the ImageNet dataset of which you can learn more about [here](http://image-net.org/about-overview).\n",
    "\n",
    "We are going to use the [hymenoptera dataset](https://www.kaggle.com/ajayrana/hymenoptera-data) version 1 from kaggle by [ajayrana](https://www.kaggle.com/ajayrana) which contains photos of ants and bees so at the end you will be able to classify them with good accuracy even when you have such less photos in each class here class just means the individual catageroies that you want to classify in our case class is equal to 2.  \n",
    " \n",
    "And to complete this task we are going to use a library called [tensorflow](https://www.tensorflow.org/)\n"
   ]
  },
  {
   "cell_type": "code",
   "execution_count": 7,
   "metadata": {},
   "outputs": [
    {
     "name": "stdout",
     "output_type": "stream",
     "text": [
      "Found 244 images belonging to 2 classes.\n",
      "Found 153 images belonging to 2 classes.\n",
      "Epoch 1/10\n",
      "7/7 [==============================] - 49s 7s/step - loss: 1.2653 - accuracy: 0.6462 - val_loss: 17.6126 - val_accuracy: 0.6209\n",
      "Epoch 2/10\n",
      "7/7 [==============================] - 53s 8s/step - loss: 0.2960 - accuracy: 0.8774 - val_loss: 129.1788 - val_accuracy: 0.5425\n",
      "Epoch 3/10\n",
      "7/7 [==============================] - 50s 7s/step - loss: 0.3520 - accuracy: 0.9292 - val_loss: 5803.1191 - val_accuracy: 0.5686\n",
      "Epoch 4/10\n",
      "7/7 [==============================] - 52s 7s/step - loss: 0.4098 - accuracy: 0.8538 - val_loss: 80.2302 - val_accuracy: 0.5556\n",
      "Epoch 5/10\n",
      "7/7 [==============================] - 53s 8s/step - loss: 0.2224 - accuracy: 0.9018 - val_loss: 928.8162 - val_accuracy: 0.4575\n",
      "Epoch 6/10\n",
      "7/7 [==============================] - 50s 7s/step - loss: 0.1596 - accuracy: 0.9481 - val_loss: 9333.9756 - val_accuracy: 0.4575\n",
      "Epoch 7/10\n",
      "7/7 [==============================] - 53s 8s/step - loss: 0.3136 - accuracy: 0.9151 - val_loss: 23124.4922 - val_accuracy: 0.5294\n",
      "Epoch 8/10\n",
      "7/7 [==============================] - 53s 8s/step - loss: 0.3187 - accuracy: 0.8973 - val_loss: 199.4269 - val_accuracy: 0.4575\n",
      "Epoch 9/10\n",
      "7/7 [==============================] - 51s 7s/step - loss: 0.2631 - accuracy: 0.9245 - val_loss: 27.1467 - val_accuracy: 0.5556\n",
      "Epoch 10/10\n",
      "7/7 [==============================] - 50s 7s/step - loss: 0.3209 - accuracy: 0.9104 - val_loss: 1258.7451 - val_accuracy: 0.4575\n"
     ]
    }
   ],
   "source": [
    "# Importing Prerequisites.\n",
    "import tensorflow as tf\n",
    "from tensorflow import keras\n",
    "import os\n",
    " \n",
    "# Path to the dataset.\n",
    "PATH = r'./assets/data'\n",
    " \n",
    "# Preprocessing for the model that we are using which is Resnet50\n",
    "# which just means that it is a ResNet model with 50 layers.\n",
    "train_datagen = keras.preprocessing.image.ImageDataGenerator(keras.applications.resnet50.preprocess_input)\n",
    "val_datagen = keras.preprocessing.image.ImageDataGenerator(keras.applications.resnet50.preprocess_input)\n",
    " \n",
    "# Training generator which eases the loading and supplying of the data. \n",
    "train_gen = train_datagen.flow_from_directory(os.path.join(PATH, \"train\"),\n",
    "                                              target_size = (224, 224),\n",
    "                                              color_mode = \"rgb\",\n",
    "                                              batch_size = 32,\n",
    "                                              class_mode = \"categorical\",\n",
    "                                              shuffle = True)\n",
    " \n",
    "# Validation generator which eases the loading and supplying of the data.\n",
    "val_gen = val_datagen.flow_from_directory(os.path.join(PATH, \"val\"),\n",
    "                                              target_size = (224, 224),\n",
    "                                              color_mode = \"rgb\",\n",
    "                                              batch_size = 32,\n",
    "                                              class_mode = \"categorical\",\n",
    "                                              shuffle = False)\n",
    " \n",
    "# Assigning ResNet50 without the top which just means that we are not\n",
    "# using the stock classification layer but will be making our own. \n",
    "base_model = keras.applications.ResNet50(weights = \"imagenet\",\n",
    "                                         include_top = False)\n",
    " \n",
    "# Here we build our custom classifier which has two output units,\n",
    "# one for ants and the other for bees.\n",
    "x = base_model.output\n",
    "x = keras.layers.GlobalAveragePooling2D()(x)\n",
    "x = keras.layers.Dense(1024, activation = \"relu\")(x)\n",
    "x = keras.layers.Dense(512, activation = \"relu\")(x)\n",
    "preds = keras.layers.Dense(2, activation = \"softmax\")(x)  \n",
    " \n",
    "# Here we define our modified model with the inputs and outputs.\n",
    "model = keras.models.Model(inputs= base_model.input,\n",
    "                           outputs = preds)\n",
    " \n",
    "# Here we define the type of loss, optimizer and metrics to use. \n",
    "model.compile(optimizer = \"Adam\",\n",
    "              loss = \"categorical_crossentropy\",\n",
    "              metrics=[\"accuracy\"])\n",
    " \n",
    "# Starting the training while supplying train and \n",
    "# validation generators with the number of epochs and the step size per epoch. \n",
    "history = model.fit_generator(generator = train_gen,\n",
    "                              validation_data = val_gen,\n",
    "                              steps_per_epoch = train_gen.n//train_gen.batch_size,\n",
    "                              epochs = 10)\n"
   ]
  },
  {
   "cell_type": "markdown",
   "metadata": {},
   "source": [
    "Let's plot our training curves, which is basically the plot of accuracy and loss with respect to the number of epochs. "
   ]
  },
  {
   "cell_type": "code",
   "execution_count": 10,
   "metadata": {},
   "outputs": [
    {
     "data": {
      "image/png": "[encoded data removed]",
      "text/plain": [
       "<Figure size 432x288 with 1 Axes>"
      ]
     },
     "metadata": {
      "needs_background": "light"
     },
     "output_type": "display_data"
    },
    {
     "data": {
      "image/png": "[encoded data removed]",
      "text/plain": [
       "<Figure size 432x288 with 1 Axes>"
      ]
     },
     "metadata": {
      "needs_background": "light"
     },
     "output_type": "display_data"
    }
   ],
   "source": [
    "import matplotlib.pyplot as plt \n",
    "\n",
    "acc = history.history['accuracy']\n",
    "loss = history.history['loss']\n",
    "\n",
    "plt.figure()\n",
    "plt.plot(acc, color=\"r\",label='Training Accuracy')\n",
    "plt.ylabel('Accuracy')\n",
    "plt.title('Training Accuracy')\n",
    "\n",
    "plt.figure()\n",
    "\n",
    "plt.plot(loss, color=\"g\", label='Training Loss')\n",
    "plt.ylabel('Loss')\n",
    "plt.title('Training Loss')\n",
    "plt.xlabel('epoch')\n",
    "plt.show()"
   ]
  }
 ],
 "metadata": {
  "kernelspec": {
   "display_name": "Python 3",
   "language": "python",
   "name": "python3"
  },
  "language_info": {
   "codemirror_mode": {
    "name": "ipython",
    "version": 3
   },
   "file_extension": ".py",
   "mimetype": "text/x-python",
   "name": "python",
   "nbconvert_exporter": "python",
   "pygments_lexer": "ipython3",
   "version": "3.8.5"
  }
 },
 "nbformat": 4,
 "nbformat_minor": 4
}
