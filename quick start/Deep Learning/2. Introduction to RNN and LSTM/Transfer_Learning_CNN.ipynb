{
 "cells": [
  {
   "cell_type": "markdown",
   "metadata": {},
   "source": [
    "# Introduction to Machine Learning\n",
    "### By **[NimbleBox](https://www.nimblebox.ai)**\n",
    "\n",
    "\n",
    "[<img src=\"./assets/nbx.jpeg\" alt=\"NimbleBox.ai logo\" width=\"600\"/>](https://www.nimblebox.ai)\n",
    "\n"
   ]
  },
  {
   "cell_type": "markdown",
   "metadata": {},
   "source": [
    "## What will we learn \n",
    " \n",
    "Today we will learn about Recurrent Neural Networks and it's types and what exactly it is and what do we use these networks for. We will see in this notebook. Before we directly jump into implementing this we will need to understand some things. Let us see what they are. \n"
   ]
  },
  {
   "cell_type": "markdown",
   "metadata": {},
   "source": [
    "## Recurrent Neural Networks\n",
    " \n",
    "In a recurrent neural network we store the output activations from one or more of the layers of the network. Often these are hidden later activations. Then, the next time we feed an input example to the network, we include the previously-stored outputs as additional inputs. You can think of the additional inputs as being concatenated to the end of the “normal” inputs to the previous layer. For example, if a hidden layer had 10 regular input nodes and 128 hidden nodes in the layer, then it would actually have 138 total inputs (assuming you are feeding the layer’s outputs into itself à la Elman) rather than into another layer). Of course, the very first time you try to compute the output of the network you’ll need to fill in those extra 128 inputs with 0s or something.\n",
    "\n",
    "<img src=\"./assets/rnn.png\" width=800 />\n",
    "\n",
    "> Image from [Medium](https://medium.com/ai-journal/lstm-gru-recurrent-neural-networks-81fe2bcdf1f9)\n",
    "\n",
    "\"[A friendly introduction to Recurrent Neural Networks by Luis Serrano](https://www.youtube.com/watch?v=UNmqTiOnRfg)\" is one of the best explanation of Recurrent Neural Networks that can give us an in-depth understanding on how these network function.\n",
    "\n",
    "Now, even though RNNs are quite powerful, they suffer from **Vanishing gradient problem** which hinders them from using long term information, like they are good for storing memory 3-4 instances of past iterations but larger number of instances don't provide good results so we don't just use regular RNNs. Instead, we use a better variation of RNNs: Long Short Term Networks(LSTM)."
   ]
  },
  {
   "cell_type": "markdown",
   "metadata": {},
   "source": [
    "## What is Vanishing Gradient problem? \n",
    " \n",
    "Vanishing gradient problem is a difficulty found in training artificial neural networks with gradient-based learning methods and backpropagation. In such methods, each of the neural network's weights receives an update proportional to the partial derivative of the error function with respect to the current weight in each iteration of training. The problem is that in some cases, the gradient will be vanishingly small, effectively preventing the weight from changing its value. In the worst case, this may completely stop the neural network from further training. As one example of the problem cause, traditional activation functions such as the hyperbolic tangent function have gradients in the range (0, 1), and backpropagation computes gradients by the chain rule. This has the effect of multiplying n of these small numbers to compute gradients of the \"front\" layers in an n-layer network, meaning that the gradient (error signal) decreases exponentially with n while the front layers train very slowly. \n",
    " \n",
    "<img src=\"./assets/vgp.png\" width=800 />\n",
    " \n",
    "> Image from [Medium](https://medium.com/@anishsingh20/the-vanishing-gradient-problem-48ae7f501257)"
   ]
  },
  {
   "cell_type": "markdown",
   "metadata": {},
   "source": [
    "## Long Short Term Memory (LSTM) \n",
    "\n",
    "Long short-term memory (LSTM) units (or blocks) are a building unit for layers of a recurrent neural network (RNN). A RNN composed of LSTM units is often called an LSTM network. A common LSTM unit is composed of a cell, an input gate, an output gate and a forget gate. The cell is responsible for \"remembering\" values over arbitrary time intervals; hence the word \"memory\" in LSTM. Each of the three gates can be thought of as a \"conventional\" artificial neuron, as in a multi-layer (or feedforward) neural network: that is, they compute an activation (using an activation function) of a weighted sum. Intuitively, they can be thought as regulators of the flow of values that goes through the connections of the LSTM; hence the denotation \"gate\". There are connections between these gates and the cell.\n",
    "\n",
    "The expression long short-term refers to the fact that LSTM is a model for the short-term memory which can last for a long period of time. An LSTM is well-suited to classify, process and predict time series given time lags of unknown size and duration between important events. LSTMs were developed to deal with the exploding and vanishing gradient problem when training traditional RNNs. \n",
    " \n",
    "<img src=\"./assets/lstm.png\" width=800 />\n",
    " \n",
    "> Image from [Medium](https://codeburst.io/generating-text-using-an-lstm-network-no-libraries-2dff88a3968)"
   ]
  },
  {
   "cell_type": "markdown",
   "metadata": {},
   "source": [
    "## Components of LSTMs\n",
    "\n",
    "So the LSTM cell contains the following components\n",
    "\n",
    "* Forget Gate **“f”** ( a neural network with sigmoid)\n",
    "* Candidate layer **“C\"** (a NN with Tanh)\n",
    "* Input Gate **“I”** ( a NN with sigmoid )\n",
    "* Output Gate **“O”** ( a NN with sigmoid)\n",
    "* Hidden state **“H”** ( a vector )\n",
    "* Memory state **“C”** ( a vector)\n",
    "* Inputs to the LSTM cell at any step are **Xt** (current input), **Ht-1** (previous hidden state ) and **Ct-1** (previous memory state).\n",
    "* Outputs from the LSTM cell are **Ht** (current hidden state ) and **Ct** (current memory state)\n",
    "\n",
    "<img src=\"./assets/comp.png\" width=800 />\n",
    " \n",
    "> Image from [Medium](https://medium.com/deep-math-machine-learning-ai/chapter-10-1-deepnlp-lstm-long-short-term-memory-networks-with-math-21477f8e4235)"
   ]
  },
  {
   "cell_type": "markdown",
   "metadata": {},
   "source": [
    "## Working of gates in LSTMs\n",
    "\n",
    "First, LSTM cell takes the previous memory state Ct-1 and does element wise multiplication with forget gate (f) to decide if present memory state Ct. If forget gate value is 0 then previous memory state is completely forgotten else f forget gate value is 1 then previous memory state is completely passed to the cell ( Remember f gate gives values between 0 and 1 ).\n",
    "\n",
    "**Ct = Ct-1 * ft**\n",
    "\n",
    "Calculating the new memory state:\n",
    "\n",
    "**Ct = Ct + (It * Ct)**\n",
    "\n",
    "Now, we calculate the output:\n",
    "\n",
    "**Ht = tanh(Ct)**"
   ]
  },
  {
   "cell_type": "markdown",
   "metadata": {},
   "source": [
    "## Some math behind LSTMs\n",
    "\n",
    "<img src=\"./assets/lstm_unit.png\">\n",
    "\n",
    "LSTMs have a separate update gate and forget gate. This clearly makes LSTMs more sophisticated but at the same time more complex as well. There is no simple way to decide which to use for your particular use case. You always have to do trial and error to test the performance.\n",
    "\n",
    "We would highly suggest to read this [article by Madhu Sanjeevi](https://medium.com/deep-math-machine-learning-ai/chapter-10-1-deepnlp-lstm-long-short-term-memory-networks-with-math-21477f8e4235) for deep dive in the math behind LSTMs."
   ]
  },
  {
   "cell_type": "markdown",
   "metadata": {},
   "source": [
    "## Implementation \n",
    " \n",
    "For this implementation we are going to using LSTMs for predicting the price of stocks of IBM for the year 2017."
   ]
  },
  {
   "cell_type": "code",
   "execution_count": 1,
   "metadata": {},
   "outputs": [],
   "source": [
    "# Importing the libraries\n",
    "import numpy as np\n",
    "import matplotlib.pyplot as plt\n",
    "import pandas as pd\n",
    "from sklearn.preprocessing import MinMaxScaler\n",
    "from tensorflow.keras.models import Sequential\n",
    "from tensorflow.keras.layers import Dense, LSTM, Dropout, GRU, Bidirectional\n",
    "from tensorflow.keras.optimizers import SGD\n",
    "import math\n",
    "from sklearn.metrics import mean_squared_error"
   ]
  },
  {
   "cell_type": "code",
   "execution_count": 2,
   "metadata": {},
   "outputs": [],
   "source": [
    "# Some functions to help out with\n",
    "def plot_predictions(test,predicted):\n",
    "    plt.plot(test, color='red',label='Real IBM Stock Price')\n",
    "    plt.plot(predicted, color='blue',label='Predicted IBM Stock Price')\n",
    "    plt.title('IBM Stock Price Prediction')\n",
    "    plt.xlabel('Time')\n",
    "    plt.ylabel('IBM Stock Price')\n",
    "    plt.legend()\n",
    "    plt.show()\n",
    "\n",
    "def return_rmse(test,predicted):\n",
    "    rmse = math.sqrt(mean_squared_error(test, predicted))\n",
    "    print(\"The root mean squared error is {}.\".format(rmse))"
   ]
  },
  {
   "cell_type": "code",
   "execution_count": 5,
   "metadata": {},
   "outputs": [],
   "source": [
    "# First, we get the data\n",
    "dataset = pd.read_csv('./assets/data/IBM_2006-01-01_to_2018-01-01.csv', index_col='Date', parse_dates=['Date'])\n",
    "\n",
    "# Checking for missing values\n",
    "training_set = dataset[:'2016'].iloc[:,1:2].values\n",
    "test_set = dataset['2017':].iloc[:,1:2].values"
   ]
  },
  {
   "cell_type": "code",
   "execution_count": 6,
   "metadata": {},
   "outputs": [
    {
     "data": {
      "image/png": "[encoded data removed]",
      "text/plain": [
       "<Figure size 1152x288 with 1 Axes>"
      ]
     },
     "metadata": {
      "needs_background": "light"
     },
     "output_type": "display_data"
    }
   ],
   "source": [
    "# We have chosen 'High' attribute for prices. Let's see what it looks like\n",
    "dataset[\"High\"][:'2016'].plot(figsize=(16,4),legend=True)\n",
    "dataset[\"High\"]['2017':].plot(figsize=(16,4),legend=True)\n",
    "plt.legend(['Training set (Before 2017)','Test set (2017 and beyond)'])\n",
    "plt.title('IBM stock price')\n",
    "plt.show()"
   ]
  },
  {
   "cell_type": "code",
   "execution_count": 7,
   "metadata": {},
   "outputs": [],
   "source": [
    "# Scaling the training set\n",
    "sc = MinMaxScaler(feature_range=(0,1))\n",
    "training_set_scaled = sc.fit_transform(training_set)\n",
    "\n",
    "# Since LSTMs store long term memory state, we create a data structure with 60 timesteps and 1 output\n",
    "# So for each element of training set, we have 60 previous training set elements \n",
    "X_train = []\n",
    "y_train = []\n",
    "for i in range(60,2769):\n",
    "    X_train.append(training_set_scaled[i-60:i,0])\n",
    "    y_train.append(training_set_scaled[i,0])\n",
    "X_train, y_train = np.array(X_train), np.array(y_train)\n",
    "\n",
    "# Reshaping X_train for efficient modelling\n",
    "X_train = np.reshape(X_train, (X_train.shape[0],X_train.shape[1],1))"
   ]
  },
  {
   "cell_type": "code",
   "execution_count": 8,
   "metadata": {},
   "outputs": [
    {
     "name": "stdout",
     "output_type": "stream",
     "text": [
      "Epoch 1/50\n",
      "85/85 [==============================] - 16s 183ms/step - loss: 0.0274\n",
      "Epoch 2/50\n",
      "85/85 [==============================] - 15s 171ms/step - loss: 0.0109\n",
      "Epoch 3/50\n",
      "85/85 [==============================] - 15s 172ms/step - loss: 0.0081\n",
      "Epoch 4/50\n",
      "85/85 [==============================] - 14s 160ms/step - loss: 0.0070\n",
      "Epoch 5/50\n",
      "85/85 [==============================] - 17s 198ms/step - loss: 0.0060\n",
      "Epoch 6/50\n",
      "85/85 [==============================] - 21s 253ms/step - loss: 0.0054\n",
      "Epoch 7/50\n",
      "85/85 [==============================] - 18s 211ms/step - loss: 0.0052\n",
      "Epoch 8/50\n",
      "85/85 [==============================] - 16s 189ms/step - loss: 0.0048\n",
      "Epoch 9/50\n",
      "85/85 [==============================] - 21s 243ms/step - loss: 0.0044\n",
      "Epoch 10/50\n",
      "85/85 [==============================] - 16s 193ms/step - loss: 0.0041\n",
      "Epoch 11/50\n",
      "85/85 [==============================] - 12s 143ms/step - loss: 0.0039\n",
      "Epoch 12/50\n",
      "85/85 [==============================] - 16s 189ms/step - loss: 0.0034\n",
      "Epoch 13/50\n",
      "85/85 [==============================] - 18s 215ms/step - loss: 0.0033\n",
      "Epoch 14/50\n",
      "85/85 [==============================] - 16s 189ms/step - loss: 0.0032\n",
      "Epoch 15/50\n",
      "85/85 [==============================] - 20s 231ms/step - loss: 0.0031\n",
      "Epoch 16/50\n",
      "85/85 [==============================] - 18s 211ms/step - loss: 0.0029\n",
      "Epoch 17/50\n",
      "85/85 [==============================] - 18s 212ms/step - loss: 0.0028\n",
      "Epoch 18/50\n",
      "85/85 [==============================] - 17s 198ms/step - loss: 0.0028\n",
      "Epoch 19/50\n",
      "85/85 [==============================] - 18s 213ms/step - loss: 0.0025\n",
      "Epoch 20/50\n",
      "85/85 [==============================] - 18s 214ms/step - loss: 0.0025\n",
      "Epoch 21/50\n",
      "85/85 [==============================] - 18s 212ms/step - loss: 0.0025\n",
      "Epoch 22/50\n",
      "85/85 [==============================] - 17s 195ms/step - loss: 0.0023\n",
      "Epoch 23/50\n",
      "85/85 [==============================] - 13s 154ms/step - loss: 0.0025\n",
      "Epoch 24/50\n",
      "85/85 [==============================] - 12s 144ms/step - loss: 0.0022\n",
      "Epoch 25/50\n",
      "85/85 [==============================] - 13s 147ms/step - loss: 0.0022\n",
      "Epoch 26/50\n",
      "85/85 [==============================] - 13s 148ms/step - loss: 0.0021\n",
      "Epoch 27/50\n",
      "85/85 [==============================] - 12s 137ms/step - loss: 0.0021\n",
      "Epoch 28/50\n",
      "85/85 [==============================] - 15s 173ms/step - loss: 0.0021\n",
      "Epoch 29/50\n",
      "85/85 [==============================] - 19s 220ms/step - loss: 0.0019\n",
      "Epoch 30/50\n",
      "85/85 [==============================] - 18s 215ms/step - loss: 0.0020\n",
      "Epoch 31/50\n",
      "85/85 [==============================] - 19s 229ms/step - loss: 0.0019\n",
      "Epoch 32/50\n",
      "85/85 [==============================] - 18s 217ms/step - loss: 0.0018\n",
      "Epoch 33/50\n",
      "85/85 [==============================] - 25s 293ms/step - loss: 0.0018\n",
      "Epoch 34/50\n",
      "85/85 [==============================] - 17s 199ms/step - loss: 0.0017\n",
      "Epoch 35/50\n",
      "85/85 [==============================] - 17s 197ms/step - loss: 0.0017\n",
      "Epoch 36/50\n",
      "85/85 [==============================] - 18s 208ms/step - loss: 0.0018\n",
      "Epoch 37/50\n",
      "85/85 [==============================] - 17s 202ms/step - loss: 0.0016\n",
      "Epoch 38/50\n",
      "85/85 [==============================] - 18s 214ms/step - loss: 0.0017\n",
      "Epoch 39/50\n",
      "85/85 [==============================] - 15s 182ms/step - loss: 0.0016\n",
      "Epoch 40/50\n",
      "85/85 [==============================] - 20s 236ms/step - loss: 0.0016\n",
      "Epoch 41/50\n",
      "85/85 [==============================] - 26s 308ms/step - loss: 0.0016\n",
      "Epoch 42/50\n",
      "85/85 [==============================] - 23s 267ms/step - loss: 0.0016\n",
      "Epoch 43/50\n",
      "85/85 [==============================] - 20s 239ms/step - loss: 0.0015\n",
      "Epoch 44/50\n",
      "85/85 [==============================] - 21s 245ms/step - loss: 0.0015\n",
      "Epoch 45/50\n",
      "85/85 [==============================] - 19s 229ms/step - loss: 0.0014\n",
      "Epoch 46/50\n",
      "85/85 [==============================] - 19s 229ms/step - loss: 0.0014\n",
      "Epoch 47/50\n",
      "85/85 [==============================] - 20s 239ms/step - loss: 0.0015\n",
      "Epoch 48/50\n",
      "85/85 [==============================] - 17s 195ms/step - loss: 0.0014\n",
      "Epoch 49/50\n",
      "85/85 [==============================] - 18s 215ms/step - loss: 0.0014\n",
      "Epoch 50/50\n",
      "85/85 [==============================] - 18s 215ms/step - loss: 0.0015\n"
     ]
    },
    {
     "data": {
      "text/plain": [
       "<tensorflow.python.keras.callbacks.History at 0x7f3f301d16d0>"
      ]
     },
     "execution_count": 8,
     "metadata": {},
     "output_type": "execute_result"
    }
   ],
   "source": [
    "# The LSTM architecture\n",
    "regressor = Sequential()\n",
    "\n",
    "# First LSTM layer with Dropout regularisation\n",
    "regressor.add(LSTM(units=50, return_sequences=True, input_shape=(X_train.shape[1],1)))\n",
    "regressor.add(Dropout(0.2))\n",
    "\n",
    "# Second LSTM layer\n",
    "regressor.add(LSTM(units=50, return_sequences=True))\n",
    "regressor.add(Dropout(0.2))\n",
    "\n",
    "# Third LSTM layer\n",
    "regressor.add(LSTM(units=50, return_sequences=True))\n",
    "regressor.add(Dropout(0.2))\n",
    "\n",
    "# Fourth LSTM layer\n",
    "regressor.add(LSTM(units=50))\n",
    "regressor.add(Dropout(0.2))\n",
    "\n",
    "# The output layer\n",
    "regressor.add(Dense(units=1))\n",
    "\n",
    "# Compiling the RNN\n",
    "regressor.compile(optimizer='rmsprop', loss='mean_squared_error')\n",
    "\n",
    "# Fitting to the training set\n",
    "regressor.fit(X_train, y_train, epochs=50, batch_size=32)"
   ]
  },
  {
   "cell_type": "markdown",
   "metadata": {},
   "source": [
    "Now that our model has trained, let us try to predict the stock prices of IBM in 2017"
   ]
  },
  {
   "cell_type": "code",
   "execution_count": 9,
   "metadata": {},
   "outputs": [],
   "source": [
    "# Now to get the test set ready in a similar way as the training set.\n",
    "# The following has been done so forst 60 entires of test set have 60 previous values which is impossible to get unless we take the whole \n",
    "# 'High' attribute data for processing\n",
    "dataset_total = pd.concat((dataset[\"High\"][:'2016'],dataset[\"High\"]['2017':]),axis=0)\n",
    "inputs = dataset_total[len(dataset_total)-len(test_set) - 60:].values\n",
    "inputs = inputs.reshape(-1,1)\n",
    "inputs  = sc.transform(inputs)\n",
    "\n",
    "# Preparing X_test and predicting the prices\n",
    "X_test = []\n",
    "for i in range(60,311):\n",
    "    X_test.append(inputs[i-60:i,0])\n",
    "X_test = np.array(X_test)\n",
    "X_test = np.reshape(X_test, (X_test.shape[0],X_test.shape[1],1))\n",
    "predicted_stock_price = regressor.predict(X_test)\n",
    "predicted_stock_price = sc.inverse_transform(predicted_stock_price)"
   ]
  },
  {
   "cell_type": "code",
   "execution_count": 10,
   "metadata": {},
   "outputs": [
    {
     "data": {
      "image/png": "[encoded data removed]",
      "text/plain": [
       "<Figure size 432x288 with 1 Axes>"
      ]
     },
     "metadata": {
      "needs_background": "light"
     },
     "output_type": "display_data"
    }
   ],
   "source": [
    "# Visualizing the results for LSTM\n",
    "plot_predictions(test_set,predicted_stock_price)"
   ]
  },
  {
   "cell_type": "code",
   "execution_count": 11,
   "metadata": {},
   "outputs": [
    {
     "name": "stdout",
     "output_type": "stream",
     "text": [
      "The root mean squared error is 4.85832851195862.\n"
     ]
    }
   ],
   "source": [
    "# Evaluating our model\n",
    "return_rmse(test_set,predicted_stock_price)"
   ]
  },
  {
   "cell_type": "markdown",
   "metadata": {},
   "source": [
    "LSTM is not the only kind of unit that has taken the world of Deep Learning by a storm. We have **Gated Recurrent Units (GRU)**. It's not known, which is better: GRU or LSTM becuase they have comparable performances. GRUs are easier to train than LSTMs."
   ]
  },
  {
   "cell_type": "markdown",
   "metadata": {},
   "source": [
    "## Gated Recurrent Units (GRUs)\n",
    "\n",
    "The GRU unit does not have to use a memory unit to control the flow of information like the LSTM unit. It can directly makes use of the all hidden states without any control. GRUs have fewer parameters and thus may train a bit faster or need less data to generalize. But, with large data, the LSTMs with higher expressiveness may lead to better results.\n",
    "\n",
    "They are almost similar to LSTMs except that they have two gates: reset gate and update gate. Reset gate determines how to combine new input to previous memory and update gate determines how much of the previous state to keep. Update gate in GRU is what input gate and forget gate were in LSTM. We don't have the second non linearity in GRU before calculating the output neither they have the output gate.\n",
    "\n",
    "**Understanding GRU with Math**\n",
    "\n",
    "<img src=\"./assets/gru.png\" width=800 />\n",
    " \n",
    "> Image from [Medium](https://medium.com/@saurabh.rathor092/simple-rnn-vs-gru-vs-lstm-difference-lies-in-more-flexible-control-5f33e07b1e57)"
   ]
  },
  {
   "cell_type": "markdown",
   "metadata": {},
   "source": [
    "## Implementation\n",
    "\n",
    "Let us now see how we can use GRU to predict the price of stocks of IBM for the year 2017."
   ]
  },
  {
   "cell_type": "code",
   "execution_count": 12,
   "metadata": {},
   "outputs": [
    {
     "name": "stdout",
     "output_type": "stream",
     "text": [
      "Epoch 1/50\n",
      "19/19 [==============================] - 6s 291ms/step - loss: 0.1191\n",
      "Epoch 2/50\n",
      "19/19 [==============================] - 6s 322ms/step - loss: 0.0352\n",
      "Epoch 3/50\n",
      "19/19 [==============================] - 6s 326ms/step - loss: 0.0087\n",
      "Epoch 4/50\n",
      "19/19 [==============================] - 5s 284ms/step - loss: 0.0049\n",
      "Epoch 5/50\n",
      "19/19 [==============================] - 6s 312ms/step - loss: 0.0044\n",
      "Epoch 6/50\n",
      "19/19 [==============================] - 6s 342ms/step - loss: 0.0040\n",
      "Epoch 7/50\n",
      "19/19 [==============================] - 6s 297ms/step - loss: 0.0036\n",
      "Epoch 8/50\n",
      "19/19 [==============================] - 6s 305ms/step - loss: 0.0035\n",
      "Epoch 9/50\n",
      "19/19 [==============================] - 6s 293ms/step - loss: 0.0033\n",
      "Epoch 10/50\n",
      "19/19 [==============================] - 6s 301ms/step - loss: 0.0034\n",
      "Epoch 11/50\n",
      "19/19 [==============================] - 8s 403ms/step - loss: 0.0032\n",
      "Epoch 12/50\n",
      "19/19 [==============================] - 5s 279ms/step - loss: 0.0032\n",
      "Epoch 13/50\n",
      "19/19 [==============================] - 4s 229ms/step - loss: 0.0030\n",
      "Epoch 14/50\n",
      "19/19 [==============================] - 6s 316ms/step - loss: 0.0030\n",
      "Epoch 15/50\n",
      "19/19 [==============================] - 8s 415ms/step - loss: 0.0028\n",
      "Epoch 16/50\n",
      "19/19 [==============================] - 6s 326ms/step - loss: 0.0026\n",
      "Epoch 17/50\n",
      "19/19 [==============================] - 6s 313ms/step - loss: 0.0027\n",
      "Epoch 18/50\n",
      "19/19 [==============================] - 6s 328ms/step - loss: 0.0027\n",
      "Epoch 19/50\n",
      "19/19 [==============================] - 6s 330ms/step - loss: 0.0026\n",
      "Epoch 20/50\n",
      "19/19 [==============================] - 6s 319ms/step - loss: 0.0026\n",
      "Epoch 21/50\n",
      "19/19 [==============================] - 6s 308ms/step - loss: 0.0026\n",
      "Epoch 22/50\n",
      "19/19 [==============================] - 6s 306ms/step - loss: 0.0026\n",
      "Epoch 23/50\n",
      "19/19 [==============================] - 7s 355ms/step - loss: 0.0025\n",
      "Epoch 24/50\n",
      "19/19 [==============================] - 7s 375ms/step - loss: 0.0023\n",
      "Epoch 25/50\n",
      "19/19 [==============================] - 7s 386ms/step - loss: 0.0027\n",
      "Epoch 26/50\n",
      "19/19 [==============================] - 7s 355ms/step - loss: 0.0023\n",
      "Epoch 27/50\n",
      "19/19 [==============================] - 6s 320ms/step - loss: 0.0024\n",
      "Epoch 28/50\n",
      "19/19 [==============================] - 6s 310ms/step - loss: 0.0023\n",
      "Epoch 29/50\n",
      "19/19 [==============================] - 6s 330ms/step - loss: 0.0023\n",
      "Epoch 30/50\n",
      "19/19 [==============================] - 6s 336ms/step - loss: 0.0023\n",
      "Epoch 31/50\n",
      "19/19 [==============================] - 7s 354ms/step - loss: 0.0023\n",
      "Epoch 32/50\n",
      "19/19 [==============================] - 6s 314ms/step - loss: 0.0022\n",
      "Epoch 33/50\n",
      "19/19 [==============================] - 6s 329ms/step - loss: 0.0021\n",
      "Epoch 34/50\n",
      "19/19 [==============================] - 6s 342ms/step - loss: 0.0021\n",
      "Epoch 35/50\n",
      "19/19 [==============================] - 6s 335ms/step - loss: 0.0022\n",
      "Epoch 36/50\n",
      "19/19 [==============================] - 6s 300ms/step - loss: 0.0021\n",
      "Epoch 37/50\n",
      "19/19 [==============================] - 6s 309ms/step - loss: 0.0022\n",
      "Epoch 38/50\n",
      "19/19 [==============================] - 6s 327ms/step - loss: 0.0021\n",
      "Epoch 39/50\n",
      "19/19 [==============================] - 6s 293ms/step - loss: 0.0020\n",
      "Epoch 40/50\n",
      "19/19 [==============================] - 6s 317ms/step - loss: 0.0022\n",
      "Epoch 41/50\n",
      "19/19 [==============================] - 6s 313ms/step - loss: 0.0022\n",
      "Epoch 42/50\n",
      "19/19 [==============================] - 6s 322ms/step - loss: 0.0021\n",
      "Epoch 43/50\n",
      "19/19 [==============================] - 7s 351ms/step - loss: 0.0020\n",
      "Epoch 44/50\n",
      "19/19 [==============================] - 6s 328ms/step - loss: 0.0020\n",
      "Epoch 45/50\n",
      "19/19 [==============================] - 5s 273ms/step - loss: 0.0020\n",
      "Epoch 46/50\n",
      "19/19 [==============================] - 7s 350ms/step - loss: 0.0021\n",
      "Epoch 47/50\n",
      "19/19 [==============================] - 10s 510ms/step - loss: 0.0020\n",
      "Epoch 48/50\n",
      "19/19 [==============================] - 9s 478ms/step - loss: 0.0020\n",
      "Epoch 49/50\n",
      "19/19 [==============================] - 5s 283ms/step - loss: 0.0021\n",
      "Epoch 50/50\n",
      "19/19 [==============================] - 6s 306ms/step - loss: 0.0020\n"
     ]
    },
    {
     "data": {
      "text/plain": [
       "<tensorflow.python.keras.callbacks.History at 0x7f3eb859f280>"
      ]
     },
     "execution_count": 12,
     "metadata": {},
     "output_type": "execute_result"
    }
   ],
   "source": [
    "# The GRU architecture\n",
    "regressorGRU = Sequential()\n",
    "\n",
    "# First GRU layer with Dropout regularisation\n",
    "regressorGRU.add(GRU(units=50, return_sequences=True, input_shape=(X_train.shape[1],1), activation='tanh'))\n",
    "regressorGRU.add(Dropout(0.2))\n",
    "\n",
    "# Second GRU layer\n",
    "regressorGRU.add(GRU(units=50, return_sequences=True, input_shape=(X_train.shape[1],1), activation='tanh'))\n",
    "regressorGRU.add(Dropout(0.2))\n",
    "\n",
    "# Third GRU layer\n",
    "regressorGRU.add(GRU(units=50, return_sequences=True, input_shape=(X_train.shape[1],1), activation='tanh'))\n",
    "regressorGRU.add(Dropout(0.2))\n",
    "\n",
    "# Fourth GRU layer\n",
    "regressorGRU.add(GRU(units=50, activation='tanh'))\n",
    "regressorGRU.add(Dropout(0.2))\n",
    "\n",
    "# The output layer\n",
    "regressorGRU.add(Dense(units=1))\n",
    "\n",
    "# Compiling the RNN\n",
    "regressorGRU.compile(optimizer=SGD(lr=0.01, decay=1e-7, momentum=0.9, nesterov=False),loss='mean_squared_error')\n",
    "\n",
    "# Fitting to the training set\n",
    "regressorGRU.fit(X_train,y_train,epochs=50,batch_size=150)"
   ]
  },
  {
   "cell_type": "code",
   "execution_count": 13,
   "metadata": {},
   "outputs": [],
   "source": [
    "# Preparing X_test and predicting the prices\n",
    "X_test = []\n",
    "for i in range(60,311):\n",
    "    X_test.append(inputs[i-60:i,0])\n",
    "X_test = np.array(X_test)\n",
    "X_test = np.reshape(X_test, (X_test.shape[0],X_test.shape[1],1))\n",
    "GRU_predicted_stock_price = regressorGRU.predict(X_test)\n",
    "GRU_predicted_stock_price = sc.inverse_transform(GRU_predicted_stock_price)"
   ]
  },
  {
   "cell_type": "code",
   "execution_count": 14,
   "metadata": {},
   "outputs": [
    {
     "data": {
      "image/png": "[encoded data removed]",
      "text/plain": [
       "<Figure size 432x288 with 1 Axes>"
      ]
     },
     "metadata": {
      "needs_background": "light"
     },
     "output_type": "display_data"
    }
   ],
   "source": [
    "# Visualizing the results for GRU\n",
    "plot_predictions(test_set,GRU_predicted_stock_price)"
   ]
  },
  {
   "cell_type": "code",
   "execution_count": 15,
   "metadata": {},
   "outputs": [
    {
     "name": "stdout",
     "output_type": "stream",
     "text": [
      "The root mean squared error is 3.4439560044139252.\n"
     ]
    }
   ],
   "source": [
    "# Evaluating GRU\n",
    "return_rmse(test_set,GRU_predicted_stock_price)"
   ]
  },
  {
   "cell_type": "markdown",
   "metadata": {},
   "source": [
    "## Conclusion\n",
    "\n",
    "To sum this up, RNN’s are good for processing sequence data for predictions but suffers from short-term memory. LSTM’s and GRU’s were created as a method to mitigate short-term memory using mechanisms called gates. Gates are just neural networks that regulate the flow of information flowing through the sequence chain. LSTM’s and GRU’s are used in state of the art deep learning applications like speech recognition, speech synthesis, natural language understanding, etc."
   ]
  }
 ],
 "metadata": {
  "kernelspec": {
   "display_name": "Python 3",
   "language": "python",
   "name": "python3"
  },
  "language_info": {
   "codemirror_mode": {
    "name": "ipython",
    "version": 3
   },
   "file_extension": ".py",
   "mimetype": "text/x-python",
   "name": "python",
   "nbconvert_exporter": "python",
   "pygments_lexer": "ipython3",
   "version": "3.8.5"
  }
 },
 "nbformat": 4,
 "nbformat_minor": 4
}
